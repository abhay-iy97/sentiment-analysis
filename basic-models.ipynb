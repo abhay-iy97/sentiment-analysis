{
 "cells": [
  {
   "cell_type": "code",
   "execution_count": 3,
   "source": [
    "import pandas as pd\n",
    "import numpy as np\n",
    "import nltk\n",
    "nltk.download('wordnet')\n",
    "import re\n",
    "from bs4 import BeautifulSoup\n",
    " "
   ],
   "outputs": [
    {
     "output_type": "stream",
     "name": "stderr",
     "text": [
      "[nltk_data] Downloading package wordnet to /Users/abhay/nltk_data...\n",
      "[nltk_data]   Package wordnet is already up-to-date!\n"
     ]
    }
   ],
   "metadata": {}
  },
  {
   "cell_type": "code",
   "execution_count": 4,
   "source": [
    "# ! pip install bs4 # in case you don't have it installed\n",
    "\n",
    "# Dataset: https://s3.amazonaws.com/amazon-reviews-pds/tsv/amazon_reviews_us_Jewelry_v1_00.tsv.gz"
   ],
   "outputs": [],
   "metadata": {}
  },
  {
   "cell_type": "markdown",
   "source": [
    "## Read Data"
   ],
   "metadata": {}
  },
  {
   "cell_type": "code",
   "execution_count": 5,
   "source": [
    "filepath = './amazon_reviews_us_Jewelry_v1_00.tsv'\n",
    "reviews_df = pd.read_csv(filepath, sep='\\t', on_bad_lines='skip')"
   ],
   "outputs": [
    {
     "output_type": "stream",
     "name": "stderr",
     "text": [
      "/var/folders/7_/3t2q1spn35507y_2q54_zp5c0000gn/T/ipykernel_63980/2486336596.py:2: DtypeWarning: Columns (7) have mixed types. Specify dtype option on import or set low_memory=False.\n",
      "  reviews_df = pd.read_csv(filepath, sep='\\t', on_bad_lines='skip')\n"
     ]
    }
   ],
   "metadata": {}
  },
  {
   "cell_type": "code",
   "execution_count": 6,
   "source": [
    "reviews_df.info()"
   ],
   "outputs": [
    {
     "output_type": "stream",
     "name": "stdout",
     "text": [
      "<class 'pandas.core.frame.DataFrame'>\n",
      "RangeIndex: 1766992 entries, 0 to 1766991\n",
      "Data columns (total 15 columns):\n",
      " #   Column             Dtype  \n",
      "---  ------             -----  \n",
      " 0   marketplace        object \n",
      " 1   customer_id        int64  \n",
      " 2   review_id          object \n",
      " 3   product_id         object \n",
      " 4   product_parent     int64  \n",
      " 5   product_title      object \n",
      " 6   product_category   object \n",
      " 7   star_rating        object \n",
      " 8   helpful_votes      float64\n",
      " 9   total_votes        float64\n",
      " 10  vine               object \n",
      " 11  verified_purchase  object \n",
      " 12  review_headline    object \n",
      " 13  review_body        object \n",
      " 14  review_date        object \n",
      "dtypes: float64(2), int64(2), object(11)\n",
      "memory usage: 202.2+ MB\n"
     ]
    }
   ],
   "metadata": {}
  },
  {
   "cell_type": "code",
   "execution_count": 7,
   "source": [
    "reviews_df.head(2)"
   ],
   "outputs": [
    {
     "output_type": "execute_result",
     "data": {
      "text/plain": [
       "  marketplace  customer_id       review_id  product_id  product_parent  \\\n",
       "0          US     50423057  R135Q3VZ4DQN5N  B00JWXFDMG       657335467   \n",
       "1          US     11262325  R2N0QQ6R4T7YRY  B00W5T1H9W        26030170   \n",
       "\n",
       "                                       product_title product_category  \\\n",
       "0  Everbling Purple and Clear Briolette Drop Swar...          Jewelry   \n",
       "1  925 Sterling Silver Finish 6ct Simulated Diamo...          Jewelry   \n",
       "\n",
       "  star_rating  helpful_votes  total_votes vine verified_purchase  \\\n",
       "0           5            0.0          0.0    N                 Y   \n",
       "1           5            0.0          0.0    N                 N   \n",
       "\n",
       "  review_headline                                        review_body  \\\n",
       "0       Beauties!  so beautiful even tho clearly not high end ......   \n",
       "1  Great product.  Great product.. I got this set for my mother, ...   \n",
       "\n",
       "  review_date  \n",
       "0  2015-08-31  \n",
       "1  2015-08-31  "
      ],
      "text/html": [
       "<div>\n",
       "<style scoped>\n",
       "    .dataframe tbody tr th:only-of-type {\n",
       "        vertical-align: middle;\n",
       "    }\n",
       "\n",
       "    .dataframe tbody tr th {\n",
       "        vertical-align: top;\n",
       "    }\n",
       "\n",
       "    .dataframe thead th {\n",
       "        text-align: right;\n",
       "    }\n",
       "</style>\n",
       "<table border=\"1\" class=\"dataframe\">\n",
       "  <thead>\n",
       "    <tr style=\"text-align: right;\">\n",
       "      <th></th>\n",
       "      <th>marketplace</th>\n",
       "      <th>customer_id</th>\n",
       "      <th>review_id</th>\n",
       "      <th>product_id</th>\n",
       "      <th>product_parent</th>\n",
       "      <th>product_title</th>\n",
       "      <th>product_category</th>\n",
       "      <th>star_rating</th>\n",
       "      <th>helpful_votes</th>\n",
       "      <th>total_votes</th>\n",
       "      <th>vine</th>\n",
       "      <th>verified_purchase</th>\n",
       "      <th>review_headline</th>\n",
       "      <th>review_body</th>\n",
       "      <th>review_date</th>\n",
       "    </tr>\n",
       "  </thead>\n",
       "  <tbody>\n",
       "    <tr>\n",
       "      <th>0</th>\n",
       "      <td>US</td>\n",
       "      <td>50423057</td>\n",
       "      <td>R135Q3VZ4DQN5N</td>\n",
       "      <td>B00JWXFDMG</td>\n",
       "      <td>657335467</td>\n",
       "      <td>Everbling Purple and Clear Briolette Drop Swar...</td>\n",
       "      <td>Jewelry</td>\n",
       "      <td>5</td>\n",
       "      <td>0.0</td>\n",
       "      <td>0.0</td>\n",
       "      <td>N</td>\n",
       "      <td>Y</td>\n",
       "      <td>Beauties!</td>\n",
       "      <td>so beautiful even tho clearly not high end ......</td>\n",
       "      <td>2015-08-31</td>\n",
       "    </tr>\n",
       "    <tr>\n",
       "      <th>1</th>\n",
       "      <td>US</td>\n",
       "      <td>11262325</td>\n",
       "      <td>R2N0QQ6R4T7YRY</td>\n",
       "      <td>B00W5T1H9W</td>\n",
       "      <td>26030170</td>\n",
       "      <td>925 Sterling Silver Finish 6ct Simulated Diamo...</td>\n",
       "      <td>Jewelry</td>\n",
       "      <td>5</td>\n",
       "      <td>0.0</td>\n",
       "      <td>0.0</td>\n",
       "      <td>N</td>\n",
       "      <td>N</td>\n",
       "      <td>Great product.</td>\n",
       "      <td>Great product.. I got this set for my mother, ...</td>\n",
       "      <td>2015-08-31</td>\n",
       "    </tr>\n",
       "  </tbody>\n",
       "</table>\n",
       "</div>"
      ]
     },
     "metadata": {},
     "execution_count": 7
    }
   ],
   "metadata": {}
  },
  {
   "cell_type": "code",
   "execution_count": 8,
   "source": [
    "reviews_df = reviews_df[['review_id', 'star_rating', 'review_headline', 'review_body', 'review_date']]"
   ],
   "outputs": [],
   "metadata": {}
  },
  {
   "cell_type": "code",
   "execution_count": 9,
   "source": [
    "reviews_df.info()"
   ],
   "outputs": [
    {
     "output_type": "stream",
     "name": "stdout",
     "text": [
      "<class 'pandas.core.frame.DataFrame'>\n",
      "RangeIndex: 1766992 entries, 0 to 1766991\n",
      "Data columns (total 5 columns):\n",
      " #   Column           Dtype \n",
      "---  ------           ----- \n",
      " 0   review_id        object\n",
      " 1   star_rating      object\n",
      " 2   review_headline  object\n",
      " 3   review_body      object\n",
      " 4   review_date      object\n",
      "dtypes: object(5)\n",
      "memory usage: 67.4+ MB\n"
     ]
    }
   ],
   "metadata": {}
  },
  {
   "cell_type": "markdown",
   "source": [
    "## Randomly selecting reviews from each star_rating_class"
   ],
   "metadata": {}
  },
  {
   "cell_type": "code",
   "execution_count": 10,
   "source": [
    "reviews_df['star_rating'] = pd.to_numeric(reviews_df['star_rating'],errors='coerce')\n",
    "reviews_df = reviews_df[reviews_df['star_rating'].notna()]\n",
    "reviews_df['star_rating'] = reviews_df['star_rating'].astype(int)\n",
    "\n",
    "#Convert all reviews to string\n",
    "reviews_df['review_body'] = reviews_df['review_body'].astype(str)"
   ],
   "outputs": [],
   "metadata": {}
  },
  {
   "cell_type": "markdown",
   "source": [
    "## Keep Reviews and Ratings"
   ],
   "metadata": {}
  },
  {
   "cell_type": "code",
   "execution_count": 11,
   "source": [
    "reviews_df.head(1)"
   ],
   "outputs": [
    {
     "output_type": "execute_result",
     "data": {
      "text/plain": [
       "        review_id  star_rating review_headline  \\\n",
       "0  R135Q3VZ4DQN5N            5       Beauties!   \n",
       "\n",
       "                                         review_body review_date  \n",
       "0  so beautiful even tho clearly not high end ......  2015-08-31  "
      ],
      "text/html": [
       "<div>\n",
       "<style scoped>\n",
       "    .dataframe tbody tr th:only-of-type {\n",
       "        vertical-align: middle;\n",
       "    }\n",
       "\n",
       "    .dataframe tbody tr th {\n",
       "        vertical-align: top;\n",
       "    }\n",
       "\n",
       "    .dataframe thead th {\n",
       "        text-align: right;\n",
       "    }\n",
       "</style>\n",
       "<table border=\"1\" class=\"dataframe\">\n",
       "  <thead>\n",
       "    <tr style=\"text-align: right;\">\n",
       "      <th></th>\n",
       "      <th>review_id</th>\n",
       "      <th>star_rating</th>\n",
       "      <th>review_headline</th>\n",
       "      <th>review_body</th>\n",
       "      <th>review_date</th>\n",
       "    </tr>\n",
       "  </thead>\n",
       "  <tbody>\n",
       "    <tr>\n",
       "      <th>0</th>\n",
       "      <td>R135Q3VZ4DQN5N</td>\n",
       "      <td>5</td>\n",
       "      <td>Beauties!</td>\n",
       "      <td>so beautiful even tho clearly not high end ......</td>\n",
       "      <td>2015-08-31</td>\n",
       "    </tr>\n",
       "  </tbody>\n",
       "</table>\n",
       "</div>"
      ]
     },
     "metadata": {},
     "execution_count": 11
    }
   ],
   "metadata": {}
  },
  {
   "cell_type": "markdown",
   "source": [
    " ## We select 20000 reviews randomly from each rating class.\n",
    "\n"
   ],
   "metadata": {}
  },
  {
   "cell_type": "code",
   "execution_count": 12,
   "source": [
    "rating_1 = reviews_df[reviews_df.star_rating.eq(1)].sample(20000, random_state=1)\n",
    "rating_2 = reviews_df[reviews_df.star_rating.eq(2)].sample(20000, random_state=1)\n",
    "rating_3 = reviews_df[reviews_df.star_rating.eq(3)].sample(20000, random_state=1)\n",
    "rating_4 = reviews_df[reviews_df.star_rating.eq(4)].sample(20000, random_state=1)\n",
    "rating_5 = reviews_df[reviews_df.star_rating.eq(5)].sample(20000, random_state=1)"
   ],
   "outputs": [],
   "metadata": {}
  },
  {
   "cell_type": "code",
   "execution_count": 13,
   "source": [
    "sampled_reviews_df = pd.concat([rating_1, rating_2, rating_3, rating_4, rating_5])"
   ],
   "outputs": [],
   "metadata": {}
  },
  {
   "cell_type": "code",
   "execution_count": 14,
   "source": [
    "sampled_reviews_df.info()"
   ],
   "outputs": [
    {
     "output_type": "stream",
     "name": "stdout",
     "text": [
      "<class 'pandas.core.frame.DataFrame'>\n",
      "Int64Index: 100000 entries, 179967 to 1073422\n",
      "Data columns (total 5 columns):\n",
      " #   Column           Non-Null Count   Dtype \n",
      "---  ------           --------------   ----- \n",
      " 0   review_id        100000 non-null  object\n",
      " 1   star_rating      100000 non-null  int64 \n",
      " 2   review_headline  99998 non-null   object\n",
      " 3   review_body      100000 non-null  object\n",
      " 4   review_date      100000 non-null  object\n",
      "dtypes: int64(1), object(4)\n",
      "memory usage: 4.6+ MB\n"
     ]
    }
   ],
   "metadata": {}
  },
  {
   "cell_type": "markdown",
   "source": [
    "# Data Cleaning\n",
    "\n"
   ],
   "metadata": {}
  },
  {
   "cell_type": "markdown",
   "source": [
    "# Pre-processing"
   ],
   "metadata": {}
  },
  {
   "cell_type": "code",
   "execution_count": 15,
   "source": [
    "#Convert reviews to lower case\n",
    "sampled_reviews_df['review_body'] = sampled_reviews_df['review_body'].apply(lambda value:value.lower())"
   ],
   "outputs": [],
   "metadata": {}
  },
  {
   "cell_type": "code",
   "execution_count": 16,
   "source": [
    "#Remove URLs\n",
    "import re\n",
    "\n",
    "def URLRemoval(sentence):\n",
    "    return re.sub(r\"http\\S+\", \"\", sentence)\n",
    "\n",
    "sampled_reviews_df['review_body'] = sampled_reviews_df['review_body'].apply(URLRemoval)"
   ],
   "outputs": [],
   "metadata": {}
  },
  {
   "cell_type": "code",
   "execution_count": 17,
   "source": [
    "def nonAlphabeticRemoval(sentence):\n",
    "    return re.sub(r\"[^a-zA-Z ]+\", \"\", sentence)  #This will also remove numbers.\n",
    "\n",
    "sampled_reviews_df['review_body'] = sampled_reviews_df['review_body'].apply(nonAlphabeticRemoval)"
   ],
   "outputs": [],
   "metadata": {}
  },
  {
   "cell_type": "code",
   "execution_count": 18,
   "source": [
    "# performing contractions\n",
    "import contractions\n",
    "sampled_reviews_df['review_body_contracted'] = sampled_reviews_df['review_body'].apply(lambda value:[contractions.fix(word) for word in value.split()])\n",
    "sampled_reviews_df['review_body_contracted'] = sampled_reviews_df['review_body_contracted'].apply(' '.join)"
   ],
   "outputs": [],
   "metadata": {}
  },
  {
   "cell_type": "code",
   "execution_count": 19,
   "source": [
    "sampled_reviews_df.head(1)"
   ],
   "outputs": [
    {
     "output_type": "execute_result",
     "data": {
      "text/plain": [
       "             review_id  star_rating     review_headline  \\\n",
       "179967  R3NZV5F5X17AO9            1  Cheaply Made Chain   \n",
       "\n",
       "                                            review_body review_date  \\\n",
       "179967  chain was cheaply made defective clasp returned  2015-06-08   \n",
       "\n",
       "                                 review_body_contracted  \n",
       "179967  chain was cheaply made defective clasp returned  "
      ],
      "text/html": [
       "<div>\n",
       "<style scoped>\n",
       "    .dataframe tbody tr th:only-of-type {\n",
       "        vertical-align: middle;\n",
       "    }\n",
       "\n",
       "    .dataframe tbody tr th {\n",
       "        vertical-align: top;\n",
       "    }\n",
       "\n",
       "    .dataframe thead th {\n",
       "        text-align: right;\n",
       "    }\n",
       "</style>\n",
       "<table border=\"1\" class=\"dataframe\">\n",
       "  <thead>\n",
       "    <tr style=\"text-align: right;\">\n",
       "      <th></th>\n",
       "      <th>review_id</th>\n",
       "      <th>star_rating</th>\n",
       "      <th>review_headline</th>\n",
       "      <th>review_body</th>\n",
       "      <th>review_date</th>\n",
       "      <th>review_body_contracted</th>\n",
       "    </tr>\n",
       "  </thead>\n",
       "  <tbody>\n",
       "    <tr>\n",
       "      <th>179967</th>\n",
       "      <td>R3NZV5F5X17AO9</td>\n",
       "      <td>1</td>\n",
       "      <td>Cheaply Made Chain</td>\n",
       "      <td>chain was cheaply made defective clasp returned</td>\n",
       "      <td>2015-06-08</td>\n",
       "      <td>chain was cheaply made defective clasp returned</td>\n",
       "    </tr>\n",
       "  </tbody>\n",
       "</table>\n",
       "</div>"
      ]
     },
     "metadata": {},
     "execution_count": 19
    }
   ],
   "metadata": {}
  },
  {
   "cell_type": "code",
   "execution_count": 20,
   "source": [
    "sampled_reviews_df.to_csv('sampled_reviews_df.tsv', sep=\"\\t\")"
   ],
   "outputs": [],
   "metadata": {}
  },
  {
   "cell_type": "markdown",
   "source": [
    "## remove the stop words "
   ],
   "metadata": {}
  },
  {
   "cell_type": "code",
   "execution_count": 21,
   "source": [
    "from nltk.corpus import stopwords\n",
    "nltk.download('stopwords')\n",
    "nltk.download('punkt')\n",
    "nltk.download('omw-1.4')\n",
    "print(stopwords.words('english'))\n"
   ],
   "outputs": [
    {
     "output_type": "stream",
     "name": "stdout",
     "text": [
      "['i', 'me', 'my', 'myself', 'we', 'our', 'ours', 'ourselves', 'you', \"you're\", \"you've\", \"you'll\", \"you'd\", 'your', 'yours', 'yourself', 'yourselves', 'he', 'him', 'his', 'himself', 'she', \"she's\", 'her', 'hers', 'herself', 'it', \"it's\", 'its', 'itself', 'they', 'them', 'their', 'theirs', 'themselves', 'what', 'which', 'who', 'whom', 'this', 'that', \"that'll\", 'these', 'those', 'am', 'is', 'are', 'was', 'were', 'be', 'been', 'being', 'have', 'has', 'had', 'having', 'do', 'does', 'did', 'doing', 'a', 'an', 'the', 'and', 'but', 'if', 'or', 'because', 'as', 'until', 'while', 'of', 'at', 'by', 'for', 'with', 'about', 'against', 'between', 'into', 'through', 'during', 'before', 'after', 'above', 'below', 'to', 'from', 'up', 'down', 'in', 'out', 'on', 'off', 'over', 'under', 'again', 'further', 'then', 'once', 'here', 'there', 'when', 'where', 'why', 'how', 'all', 'any', 'both', 'each', 'few', 'more', 'most', 'other', 'some', 'such', 'no', 'nor', 'not', 'only', 'own', 'same', 'so', 'than', 'too', 'very', 's', 't', 'can', 'will', 'just', 'don', \"don't\", 'should', \"should've\", 'now', 'd', 'll', 'm', 'o', 're', 've', 'y', 'ain', 'aren', \"aren't\", 'couldn', \"couldn't\", 'didn', \"didn't\", 'doesn', \"doesn't\", 'hadn', \"hadn't\", 'hasn', \"hasn't\", 'haven', \"haven't\", 'isn', \"isn't\", 'ma', 'mightn', \"mightn't\", 'mustn', \"mustn't\", 'needn', \"needn't\", 'shan', \"shan't\", 'shouldn', \"shouldn't\", 'wasn', \"wasn't\", 'weren', \"weren't\", 'won', \"won't\", 'wouldn', \"wouldn't\"]\n"
     ]
    },
    {
     "output_type": "stream",
     "name": "stderr",
     "text": [
      "[nltk_data] Downloading package stopwords to /Users/abhay/nltk_data...\n",
      "[nltk_data]   Package stopwords is already up-to-date!\n",
      "[nltk_data] Downloading package punkt to /Users/abhay/nltk_data...\n",
      "[nltk_data]   Package punkt is already up-to-date!\n",
      "[nltk_data] Downloading package omw-1.4 to /Users/abhay/nltk_data...\n",
      "[nltk_data]   Package omw-1.4 is already up-to-date!\n"
     ]
    }
   ],
   "metadata": {}
  },
  {
   "cell_type": "code",
   "execution_count": 22,
   "source": [
    "from nltk.tokenize import word_tokenize\n",
    "def stopWordRemoval(sentence):\n",
    "    # sentence = 'Hello my name is abhay how are you'\n",
    "    word_tokens = word_tokenize(sentence)\n",
    "    filtered_sentence = []\n",
    "    stop_words = set(stopwords.words('english'))\n",
    "    for w in word_tokens:\n",
    "        if w not in stop_words:\n",
    "            filtered_sentence.append(w)\n",
    "    return ' '.join(filtered_sentence)"
   ],
   "outputs": [],
   "metadata": {}
  },
  {
   "cell_type": "code",
   "execution_count": 23,
   "source": [
    "sampled_reviews_df['review_body_without_stop_words'] = sampled_reviews_df['review_body_contracted'].apply(lambda value:stopWordRemoval(value))"
   ],
   "outputs": [],
   "metadata": {}
  },
  {
   "cell_type": "code",
   "execution_count": 24,
   "source": [
    "sampled_reviews_df.head(1)"
   ],
   "outputs": [
    {
     "output_type": "execute_result",
     "data": {
      "text/plain": [
       "             review_id  star_rating     review_headline  \\\n",
       "179967  R3NZV5F5X17AO9            1  Cheaply Made Chain   \n",
       "\n",
       "                                            review_body review_date  \\\n",
       "179967  chain was cheaply made defective clasp returned  2015-06-08   \n",
       "\n",
       "                                 review_body_contracted  \\\n",
       "179967  chain was cheaply made defective clasp returned   \n",
       "\n",
       "                     review_body_without_stop_words  \n",
       "179967  chain cheaply made defective clasp returned  "
      ],
      "text/html": [
       "<div>\n",
       "<style scoped>\n",
       "    .dataframe tbody tr th:only-of-type {\n",
       "        vertical-align: middle;\n",
       "    }\n",
       "\n",
       "    .dataframe tbody tr th {\n",
       "        vertical-align: top;\n",
       "    }\n",
       "\n",
       "    .dataframe thead th {\n",
       "        text-align: right;\n",
       "    }\n",
       "</style>\n",
       "<table border=\"1\" class=\"dataframe\">\n",
       "  <thead>\n",
       "    <tr style=\"text-align: right;\">\n",
       "      <th></th>\n",
       "      <th>review_id</th>\n",
       "      <th>star_rating</th>\n",
       "      <th>review_headline</th>\n",
       "      <th>review_body</th>\n",
       "      <th>review_date</th>\n",
       "      <th>review_body_contracted</th>\n",
       "      <th>review_body_without_stop_words</th>\n",
       "    </tr>\n",
       "  </thead>\n",
       "  <tbody>\n",
       "    <tr>\n",
       "      <th>179967</th>\n",
       "      <td>R3NZV5F5X17AO9</td>\n",
       "      <td>1</td>\n",
       "      <td>Cheaply Made Chain</td>\n",
       "      <td>chain was cheaply made defective clasp returned</td>\n",
       "      <td>2015-06-08</td>\n",
       "      <td>chain was cheaply made defective clasp returned</td>\n",
       "      <td>chain cheaply made defective clasp returned</td>\n",
       "    </tr>\n",
       "  </tbody>\n",
       "</table>\n",
       "</div>"
      ]
     },
     "metadata": {},
     "execution_count": 24
    }
   ],
   "metadata": {}
  },
  {
   "cell_type": "code",
   "execution_count": 25,
   "source": [
    "sampled_reviews_df.to_csv('sampled_reviews_df.tsv', sep=\"\\t\")"
   ],
   "outputs": [],
   "metadata": {}
  },
  {
   "cell_type": "markdown",
   "source": [
    "## perform lemmatization  "
   ],
   "metadata": {}
  },
  {
   "cell_type": "code",
   "execution_count": 26,
   "source": [
    "from nltk.stem import WordNetLemmatizer\n",
    "def lemmatizeSentence(sentence):\n",
    "    word_tokens = word_tokenize(sentence)\n",
    "    lemmatized_sentence = []\n",
    "    lemmatizer = WordNetLemmatizer()\n",
    "    for word in word_tokens:\n",
    "            lemmatized_sentence.append(lemmatizer.lemmatize(word))      #Can also use pos tag for part-of-speech\n",
    "    return ' '.join(lemmatized_sentence)"
   ],
   "outputs": [],
   "metadata": {}
  },
  {
   "cell_type": "code",
   "execution_count": 27,
   "source": [
    "sampled_reviews_df['review_body_after_lemma'] = sampled_reviews_df['review_body_without_stop_words'].apply(lambda value:lemmatizeSentence(value))"
   ],
   "outputs": [],
   "metadata": {}
  },
  {
   "cell_type": "code",
   "execution_count": 28,
   "source": [
    "sampled_reviews_df.head(1)"
   ],
   "outputs": [
    {
     "output_type": "execute_result",
     "data": {
      "text/plain": [
       "             review_id  star_rating     review_headline  \\\n",
       "179967  R3NZV5F5X17AO9            1  Cheaply Made Chain   \n",
       "\n",
       "                                            review_body review_date  \\\n",
       "179967  chain was cheaply made defective clasp returned  2015-06-08   \n",
       "\n",
       "                                 review_body_contracted  \\\n",
       "179967  chain was cheaply made defective clasp returned   \n",
       "\n",
       "                     review_body_without_stop_words  \\\n",
       "179967  chain cheaply made defective clasp returned   \n",
       "\n",
       "                            review_body_after_lemma  \n",
       "179967  chain cheaply made defective clasp returned  "
      ],
      "text/html": [
       "<div>\n",
       "<style scoped>\n",
       "    .dataframe tbody tr th:only-of-type {\n",
       "        vertical-align: middle;\n",
       "    }\n",
       "\n",
       "    .dataframe tbody tr th {\n",
       "        vertical-align: top;\n",
       "    }\n",
       "\n",
       "    .dataframe thead th {\n",
       "        text-align: right;\n",
       "    }\n",
       "</style>\n",
       "<table border=\"1\" class=\"dataframe\">\n",
       "  <thead>\n",
       "    <tr style=\"text-align: right;\">\n",
       "      <th></th>\n",
       "      <th>review_id</th>\n",
       "      <th>star_rating</th>\n",
       "      <th>review_headline</th>\n",
       "      <th>review_body</th>\n",
       "      <th>review_date</th>\n",
       "      <th>review_body_contracted</th>\n",
       "      <th>review_body_without_stop_words</th>\n",
       "      <th>review_body_after_lemma</th>\n",
       "    </tr>\n",
       "  </thead>\n",
       "  <tbody>\n",
       "    <tr>\n",
       "      <th>179967</th>\n",
       "      <td>R3NZV5F5X17AO9</td>\n",
       "      <td>1</td>\n",
       "      <td>Cheaply Made Chain</td>\n",
       "      <td>chain was cheaply made defective clasp returned</td>\n",
       "      <td>2015-06-08</td>\n",
       "      <td>chain was cheaply made defective clasp returned</td>\n",
       "      <td>chain cheaply made defective clasp returned</td>\n",
       "      <td>chain cheaply made defective clasp returned</td>\n",
       "    </tr>\n",
       "  </tbody>\n",
       "</table>\n",
       "</div>"
      ]
     },
     "metadata": {},
     "execution_count": 28
    }
   ],
   "metadata": {}
  },
  {
   "cell_type": "code",
   "execution_count": 29,
   "source": [
    "sampled_reviews_df.to_csv('sampled_reviews_df.tsv', sep=\"\\t\")"
   ],
   "outputs": [],
   "metadata": {}
  },
  {
   "cell_type": "markdown",
   "source": [
    "# TF-IDF Feature Extraction"
   ],
   "metadata": {}
  },
  {
   "cell_type": "code",
   "execution_count": 30,
   "source": [
    "from sklearn.feature_extraction.text import TfidfVectorizer\n",
    "tfidfVector = TfidfVectorizer(max_features=10000)\n",
    "fittedValue = tfidfVector.fit_transform(sampled_reviews_df['review_body_after_lemma'].to_list())"
   ],
   "outputs": [],
   "metadata": {}
  },
  {
   "cell_type": "code",
   "execution_count": 31,
   "source": [
    "data = pd.DataFrame(fittedValue.toarray(), columns=tfidfVector.get_feature_names())"
   ],
   "outputs": [
    {
     "output_type": "stream",
     "name": "stderr",
     "text": [
      "/Users/abhay/opt/anaconda3/envs/doc-clf/lib/python3.9/site-packages/sklearn/utils/deprecation.py:87: FutureWarning: Function get_feature_names is deprecated; get_feature_names is deprecated in 1.0 and will be removed in 1.2. Please use get_feature_names_out instead.\n",
      "  warnings.warn(msg, category=FutureWarning)\n"
     ]
    }
   ],
   "metadata": {}
  },
  {
   "cell_type": "markdown",
   "source": [
    "### Train-test split"
   ],
   "metadata": {}
  },
  {
   "cell_type": "code",
   "execution_count": 32,
   "source": [
    "from sklearn.model_selection import train_test_split\n",
    "trainData, testData, trainLabels, testLabels = train_test_split(data, sampled_reviews_df['star_rating'].to_list(), test_size=0.2, random_state=42, stratify=sampled_reviews_df['star_rating'].to_list())"
   ],
   "outputs": [],
   "metadata": {}
  },
  {
   "cell_type": "markdown",
   "source": [
    "# Perceptron"
   ],
   "metadata": {}
  },
  {
   "cell_type": "code",
   "execution_count": 33,
   "source": [
    "from sklearn.neural_network import MLPClassifier\n",
    "mlpModel = MLPClassifier(hidden_layer_sizes=(64,), random_state=1, early_stopping=True, max_iter=200, verbose=True).fit(trainData.values, trainLabels)"
   ],
   "outputs": [],
   "metadata": {}
  },
  {
   "cell_type": "code",
   "execution_count": 1,
   "source": [
    "mlpModel.score(testData.values, testLabels)"
   ],
   "outputs": [
    {
     "output_type": "error",
     "ename": "NameError",
     "evalue": "name 'mlpModel' is not defined",
     "traceback": [
      "\u001b[0;31m---------------------------------------------------------------------------\u001b[0m",
      "\u001b[0;31mNameError\u001b[0m                                 Traceback (most recent call last)",
      "Input \u001b[0;32mIn [1]\u001b[0m, in \u001b[0;36m<cell line: 1>\u001b[0;34m()\u001b[0m\n\u001b[0;32m----> 1\u001b[0m \u001b[43mmlpModel\u001b[49m\u001b[38;5;241m.\u001b[39mscore(testData, testLabels)\n",
      "\u001b[0;31mNameError\u001b[0m: name 'mlpModel' is not defined"
     ]
    }
   ],
   "metadata": {}
  },
  {
   "cell_type": "markdown",
   "source": [
    "# SVM"
   ],
   "metadata": {}
  },
  {
   "cell_type": "code",
   "execution_count": null,
   "source": [],
   "outputs": [],
   "metadata": {}
  },
  {
   "cell_type": "markdown",
   "source": [
    "# Logistic Regression"
   ],
   "metadata": {}
  },
  {
   "cell_type": "code",
   "execution_count": null,
   "source": [],
   "outputs": [],
   "metadata": {}
  },
  {
   "cell_type": "markdown",
   "source": [
    "# Naive Bayes"
   ],
   "metadata": {}
  },
  {
   "cell_type": "code",
   "execution_count": null,
   "source": [],
   "outputs": [],
   "metadata": {}
  }
 ],
 "metadata": {
  "kernelspec": {
   "name": "python3",
   "display_name": "Python 3.9.12 64-bit ('doc-clf': conda)"
  },
  "language_info": {
   "codemirror_mode": {
    "name": "ipython",
    "version": 3
   },
   "file_extension": ".py",
   "mimetype": "text/x-python",
   "name": "python",
   "nbconvert_exporter": "python",
   "pygments_lexer": "ipython3",
   "version": "3.9.12"
  },
  "interpreter": {
   "hash": "6012857e81e8cff14b1b6940147b062794364b8096ad9a2e1427430ee5b32590"
  }
 },
 "nbformat": 4,
 "nbformat_minor": 4
}